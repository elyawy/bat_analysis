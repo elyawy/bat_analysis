{
 "cells": [
  {
   "cell_type": "code",
   "execution_count": 5,
   "metadata": {},
   "outputs": [],
   "source": [
    "from pathlib import Path\n",
    "\n",
    "import pandas as pd\n",
    "import numpy as np\n",
    "from matplotlib import pyplot as plt\n",
    "from scipy.stats import pearsonr, shapiro, ttest_rel\n",
    "\n",
    "import msastats\n",
    "from spartaabc.abc_inference import load_data, load_correction_regressors, load_correction_regressor_scores, bias_correction\n",
    "from spartaabc.abc_inference import IndelParams\n",
    "from spartaabc.utility import get_msa_path, PARAMS_LIST\n"
   ]
  },
  {
   "cell_type": "code",
   "execution_count": 2,
   "metadata": {},
   "outputs": [
    {
     "name": "stdout",
     "output_type": "stream",
     "text": [
      "['374286_NT_AL_AA', '91828_NT_AL_AA', '84310_NT_AL_AA', '23645_NT_AL_AA', '1834_NT_AL_AA', '375449_NT_AL_AA', '9719_NT_AL_AA', '402381_NT_AL_AA', '57670_NT_AL_AA', '374920_NT_AL_AA', '3909_NT_AL_AA', '286464_NT_AL_AA', '1258_NT_AL_AA', '9858_NT_AL_AA', '23072_NT_AL_AA', '80164_NT_AL_AA', '923_NT_AL_AA', '9612_NT_AL_AA', '2580_NT_AL_AA', '199720_NT_AL_AA', '777_NT_AL_AA', '84643_NT_AL_AA', '388015_NT_AL_AA', '401934_NT_AL_AA', '7455_NT_AL_AA', '7038_NT_AL_AA', '23359_NT_AL_AA', '54456_NT_AL_AA', '51112_NT_AL_AA', '26230_NT_AL_AA', '80022_NT_AL_AA', '375686_NT_AL_AA', '11093_NT_AL_AA', '23308_NT_AL_AA', '375759_NT_AL_AA', '55778_NT_AL_AA', '53820_NT_AL_AA', '261734_NT_AL_AA', '114780_NT_AL_AA', '57481_NT_AL_AA', '8871_NT_AL_AA', '176_NT_AL_AA', '57538_NT_AL_AA', '283638_NT_AL_AA', '27445_NT_AL_AA', '7288_NT_AL_AA', '151176_NT_AL_AA', '196385_NT_AL_AA', '387509_NT_AL_AA', '55036_NT_AL_AA', '284297_NT_AL_AA']\n"
     ]
    }
   ],
   "source": [
    "distance_metric = \"mahal\"\n",
    "top_cutoff = 1000\n",
    "aligner = \"mafft\"\n",
    "bats_path = Path(\"bat_msas\").resolve()\n",
    "others_path = Path(\"other_msas\").resolve()\n",
    "bats_path = Path(\"/home/elyalab/Data/bats/bat_msas\").resolve()\n",
    "others_path = Path(\"/home/elyalab/Data/bats/other_msas\").resolve()\n",
    "\n",
    "\n",
    "datasets = [data.stem for data in bats_path.iterdir()]\n",
    "\n",
    "\n",
    "print(datasets)"
   ]
  },
  {
   "cell_type": "code",
   "execution_count": 8,
   "metadata": {},
   "outputs": [],
   "source": [
    "def get_top_params(main_path: Path):\n",
    "    MSA_PATH = get_msa_path(main_path)\n",
    "\n",
    "    empirical_stats = msastats.calculate_fasta_stats(MSA_PATH)\n",
    "\n",
    "    stats_data = load_data(main_path)\n",
    "    regressors = load_correction_regressors(main_path, aligner)\n",
    "    regressor_scores = load_correction_regressor_scores(main_path, aligner)\n",
    "\n",
    "    params_data = []\n",
    "    full_stats_data = []\n",
    "    for model in  stats_data.keys():\n",
    "        current_regressors = regressors.get(model, None)\n",
    "        params_data.append(stats_data[model][PARAMS_LIST])\n",
    "\n",
    "        if current_regressors is not None:\n",
    "            temp_df, kept_statistics = bias_correction(current_regressors, stats_data[model], regressor_scores)\n",
    "            full_stats_data.append(temp_df)\n",
    "\n",
    "    empirical_stats = [empirical_stats[i] for i in kept_statistics]\n",
    "\n",
    "    params_data = pd.concat(params_data)\n",
    "    full_stats_data = pd.concat(full_stats_data)\n",
    "\n",
    "    calculated_distances = None\n",
    "\n",
    "    if distance_metric == \"mahal\":\n",
    "        cov = np.cov(full_stats_data.T)\n",
    "        cov = cov + np.eye(len(cov))*1e-4\n",
    "        inv_covmat = np.linalg.inv(cov)\n",
    "        u_minus_v = empirical_stats-full_stats_data\n",
    "        left = np.dot(u_minus_v, inv_covmat)\n",
    "        calculated_distances = np.sqrt(np.sum(u_minus_v*left, axis=1))\n",
    "    if distance_metric == \"euclid\":\n",
    "        weights = 1/(full_stats_data.std(axis=0) + 0.001)\n",
    "        calculated_distances = np.sum(weights*(full_stats_data - empirical_stats)**2, axis=1)\n",
    "\n",
    "    full_stats_data[\"distances\"] = calculated_distances\n",
    "    full_stats_data[PARAMS_LIST] = params_data\n",
    "\n",
    "    top_stats = full_stats_data.nsmallest(top_cutoff, \"distances\")\n",
    "    return top_stats"
   ]
  },
  {
   "cell_type": "code",
   "execution_count": 9,
   "metadata": {},
   "outputs": [
    {
     "name": "stdout",
     "output_type": "stream",
     "text": [
      "374286_NT_AL_AA\n",
      "91828_NT_AL_AA\n",
      "84310_NT_AL_AA\n",
      "23645_NT_AL_AA\n",
      "1834_NT_AL_AA\n",
      "375449_NT_AL_AA\n",
      "375449_NT_AL_AA local variable 'kept_statistics' referenced before assignment\n",
      "9719_NT_AL_AA\n",
      "402381_NT_AL_AA\n",
      "57670_NT_AL_AA\n",
      "374920_NT_AL_AA\n",
      "3909_NT_AL_AA\n",
      "3909_NT_AL_AA local variable 'kept_statistics' referenced before assignment\n",
      "286464_NT_AL_AA\n",
      "286464_NT_AL_AA local variable 'kept_statistics' referenced before assignment\n",
      "1258_NT_AL_AA\n",
      "9858_NT_AL_AA\n",
      "23072_NT_AL_AA\n",
      "80164_NT_AL_AA\n",
      "923_NT_AL_AA\n",
      "9612_NT_AL_AA\n",
      "2580_NT_AL_AA\n",
      "199720_NT_AL_AA\n",
      "777_NT_AL_AA\n",
      "84643_NT_AL_AA\n",
      "388015_NT_AL_AA\n",
      "401934_NT_AL_AA\n",
      "7455_NT_AL_AA\n",
      "7455_NT_AL_AA local variable 'kept_statistics' referenced before assignment\n",
      "7038_NT_AL_AA\n",
      "7038_NT_AL_AA local variable 'kept_statistics' referenced before assignment\n",
      "23359_NT_AL_AA\n",
      "54456_NT_AL_AA\n",
      "51112_NT_AL_AA\n",
      "26230_NT_AL_AA\n",
      "80022_NT_AL_AA\n",
      "80022_NT_AL_AA local variable 'kept_statistics' referenced before assignment\n",
      "375686_NT_AL_AA\n",
      "11093_NT_AL_AA\n",
      "23308_NT_AL_AA\n",
      "375759_NT_AL_AA\n",
      "55778_NT_AL_AA\n",
      "53820_NT_AL_AA\n",
      "261734_NT_AL_AA\n",
      "114780_NT_AL_AA\n",
      "114780_NT_AL_AA local variable 'kept_statistics' referenced before assignment\n",
      "57481_NT_AL_AA\n",
      "8871_NT_AL_AA\n",
      "176_NT_AL_AA\n",
      "176_NT_AL_AA local variable 'kept_statistics' referenced before assignment\n",
      "57538_NT_AL_AA\n",
      "283638_NT_AL_AA\n",
      "27445_NT_AL_AA\n",
      "27445_NT_AL_AA local variable 'kept_statistics' referenced before assignment\n",
      "7288_NT_AL_AA\n",
      "151176_NT_AL_AA\n",
      "196385_NT_AL_AA\n",
      "196385_NT_AL_AA local variable 'kept_statistics' referenced before assignment\n",
      "387509_NT_AL_AA\n",
      "55036_NT_AL_AA\n",
      "284297_NT_AL_AA\n"
     ]
    }
   ],
   "source": [
    "top_params = {}\n",
    "valid_datasets = []\n",
    "for dataset in datasets:\n",
    "    # (dir / \"alignment.fasta.raxml.bestModel\")\n",
    "    print(dataset)\n",
    "    try:\n",
    "        top_params[dataset] = (get_top_params(bats_path/ dataset),\n",
    "                               get_top_params(others_path / dataset))\n",
    "        valid_datasets.append(dataset)\n",
    "    except Exception as e:\n",
    "        print(dataset, e)\n",
    "        continue"
   ]
  },
  {
   "cell_type": "code",
   "execution_count": 10,
   "metadata": {},
   "outputs": [],
   "source": [
    "def get_missing_indel_model(data_path: Path,full_stats_data: pd.DataFrame):\n",
    "    top_stats = full_stats_data.nsmallest(100, \"distances\")\n",
    "    abc_indel_params = None\n",
    "    if len(top_stats[top_stats[\"insertion_rate\"] == top_stats[\"deletion_rate\"]]) > (top_cutoff // 2):\n",
    "        full_sim_data = full_stats_data[full_stats_data[\"insertion_rate\"] == full_stats_data[\"deletion_rate\"]]\n",
    "        top_sim_data = full_sim_data.nsmallest(top_cutoff, \"distances\")\n",
    "        root_length = int(top_sim_data[\"root_length\"].mean())\n",
    "        R_ID = float(top_sim_data[\"insertion_rate\"].mean())\n",
    "        A_ID = float(top_sim_data[\"length_param_insertion\"].mean())\n",
    "        abc_indel_params = IndelParams(root_length,\n",
    "                                       R_ID, R_ID,\n",
    "                                       A_ID, A_ID,\n",
    "                                       length_distribution=\"zipf\",\n",
    "                                       indel_model=\"SIM\")\n",
    "    else:\n",
    "        full_rim_data = full_stats_data[full_stats_data[\"insertion_rate\"] != full_stats_data[\"deletion_rate\"]]\n",
    "        top_rim_data = full_rim_data.nsmallest(top_cutoff, \"distances\")\n",
    "        root_length = int(top_rim_data[\"root_length\"].mean())\n",
    "        R_I = float(top_rim_data[\"insertion_rate\"].mean())\n",
    "        R_D = float(top_rim_data[\"deletion_rate\"].mean())\n",
    "        A_I = float(top_rim_data[\"length_param_insertion\"].mean())\n",
    "        A_D = float(top_rim_data[\"length_param_deletion\"].mean())\n",
    "        abc_indel_params = IndelParams(root_length,\n",
    "                                       R_I, R_D,\n",
    "                                       A_I, A_D,\n",
    "                                       length_distribution=\"zipf\",\n",
    "                                       indel_model=\"RIM\")\n",
    "    return abc_indel_params\n"
   ]
  },
  {
   "cell_type": "code",
   "execution_count": 11,
   "metadata": {},
   "outputs": [],
   "source": [
    "indel_models = {}\n",
    "for dataset in valid_datasets:\n",
    "    # (dir / \"alignment.fasta.raxml.bestModel\")\n",
    "    # try:\n",
    "    indel_models[dataset] = (get_missing_indel_model(bats_path / dataset, top_params[dataset][0]),\n",
    "                              get_missing_indel_model(others_path / dataset, top_params[dataset][1]))\n",
    "    # except Exception as e:\n",
    "    #     print(e)\n",
    "    #     continue"
   ]
  },
  {
   "cell_type": "code",
   "execution_count": 12,
   "metadata": {},
   "outputs": [],
   "source": [
    "data_comparison = {\"dataset\": [], \n",
    "                   \"insertion_bats\": [], \"insertion_others\": [],\n",
    "                   \"deletion_bats\": [], \"deletion_others\": [],\n",
    "                   \"length_insertion_bats\": [], \"length_insertion_others\": [],\n",
    "                   \"length_deletion_bats\": [], \"length_deletion_others\": []}\n",
    "for dataset in valid_datasets:\n",
    "    data_comparison[\"dataset\"].append(dataset)\n",
    "    data_comparison[\"insertion_bats\"].append(indel_models[dataset][0].insertion_rate)\n",
    "    data_comparison[\"deletion_bats\"].append(indel_models[dataset][0].deletion_rate)\n",
    "    data_comparison[\"length_insertion_bats\"].append(indel_models[dataset][0].insertion_length_parameter)\n",
    "    data_comparison[\"length_deletion_bats\"].append(indel_models[dataset][0].deletion_length_parameter)\n",
    "    data_comparison[\"insertion_others\"].append(indel_models[dataset][1].insertion_rate)\n",
    "    data_comparison[\"deletion_others\"].append(indel_models[dataset][1].deletion_rate)\n",
    "    data_comparison[\"length_insertion_others\"].append(indel_models[dataset][1].insertion_length_parameter)\n",
    "    data_comparison[\"length_deletion_others\"].append(indel_models[dataset][1].deletion_length_parameter)"
   ]
  },
  {
   "cell_type": "code",
   "execution_count": 13,
   "metadata": {},
   "outputs": [],
   "source": [
    "comparison_df = pd.DataFrame(data_comparison)"
   ]
  },
  {
   "cell_type": "code",
   "execution_count": 22,
   "metadata": {},
   "outputs": [],
   "source": [
    "import seaborn as sns"
   ]
  },
  {
   "cell_type": "code",
   "execution_count": 27,
   "metadata": {},
   "outputs": [
    {
     "name": "stderr",
     "output_type": "stream",
     "text": [
      "/tmp/ipykernel_17414/1836083930.py:3: UserWarning: set_ticklabels() should only be used with a fixed number of ticks, i.e. after set_ticks() or using a FixedLocator.\n",
      "  ax.set_xticklabels([\"\"])\n"
     ]
    },
    {
     "data": {
      "text/plain": [
       "[Text(0, 0, ''), Text(1, 0, '')]"
      ]
     },
     "execution_count": 27,
     "metadata": {},
     "output_type": "execute_result"
    },
    {
     "data": {
      "image/png": "[encoded data removed]",
      "text/plain": [
       "<Figure size 640x480 with 1 Axes>"
      ]
     },
     "metadata": {},
     "output_type": "display_data"
    }
   ],
   "source": [
    "# ax = comparison_df[[\"deletion_bats\", \"deletion_others\"]].plot.box()\n",
    "ax = sns.boxplot(data=comparison_df[[\"length_insertion_bats\", \"length_insertion_others\"]], whis=(0, 100))\n",
    "ax.set_xticklabels([\"\"])\n",
    "# ax.set_ylim(0, 0.1)\n",
    "# ax.set_xlim(0, 0.1)\n",
    "# ax.axline((0, 0), slope=1)"
   ]
  },
  {
   "cell_type": "code",
   "execution_count": 15,
   "metadata": {},
   "outputs": [
    {
     "data": {
      "text/plain": [
       "(ShapiroResult(statistic=np.float64(0.940848361751595), pvalue=np.float64(0.03361124963259325)),\n",
       " ShapiroResult(statistic=np.float64(0.968936873124303), pvalue=np.float64(0.31820117916964863)))"
      ]
     },
     "execution_count": 15,
     "metadata": {},
     "output_type": "execute_result"
    }
   ],
   "source": [
    "shapiro(comparison_df[\"insertion_others\"]), shapiro(comparison_df[\"insertion_bats\"])"
   ]
  },
  {
   "cell_type": "code",
   "execution_count": 16,
   "metadata": {},
   "outputs": [
    {
     "data": {
      "text/plain": [
       "TtestResult(statistic=np.float64(-2.5315056110337157), pvalue=np.float64(0.015390271352138288), df=np.int64(40))"
      ]
     },
     "execution_count": 16,
     "metadata": {},
     "output_type": "execute_result"
    }
   ],
   "source": [
    "ttest_rel(comparison_df[\"insertion_bats\"], comparison_df[\"insertion_others\"])"
   ]
  },
  {
   "cell_type": "code",
   "execution_count": 17,
   "metadata": {},
   "outputs": [
    {
     "data": {
      "text/plain": [
       "TtestResult(statistic=np.float64(-3.685887470361784), pvalue=np.float64(0.0006758760667445881), df=np.int64(40))"
      ]
     },
     "execution_count": 17,
     "metadata": {},
     "output_type": "execute_result"
    }
   ],
   "source": [
    "ttest_rel(comparison_df[\"deletion_bats\"], comparison_df[\"deletion_others\"])"
   ]
  },
  {
   "cell_type": "code",
   "execution_count": 18,
   "metadata": {},
   "outputs": [
    {
     "data": {
      "text/plain": [
       "TtestResult(statistic=np.float64(-4.187157172113105), pvalue=np.float64(0.0001506886496122146), df=np.int64(40))"
      ]
     },
     "execution_count": 18,
     "metadata": {},
     "output_type": "execute_result"
    }
   ],
   "source": [
    "ttest_rel(comparison_df[\"length_insertion_bats\"], comparison_df[\"length_insertion_others\"])"
   ]
  },
  {
   "cell_type": "code",
   "execution_count": 19,
   "metadata": {},
   "outputs": [
    {
     "data": {
      "text/plain": [
       "TtestResult(statistic=np.float64(4.8777607874344175), pvalue=np.float64(1.7465630450422177e-05), df=np.int64(40))"
      ]
     },
     "execution_count": 19,
     "metadata": {},
     "output_type": "execute_result"
    }
   ],
   "source": [
    "ttest_rel(comparison_df[\"length_deletion_bats\"], comparison_df[\"length_deletion_others\"])"
   ]
  },
  {
   "cell_type": "code",
   "execution_count": 59,
   "metadata": {},
   "outputs": [
    {
     "data": {
      "text/html": [
       "<div>\n",
       "<style scoped>\n",
       "    .dataframe tbody tr th:only-of-type {\n",
       "        vertical-align: middle;\n",
       "    }\n",
       "\n",
       "    .dataframe tbody tr th {\n",
       "        vertical-align: top;\n",
       "    }\n",
       "\n",
       "    .dataframe thead th {\n",
       "        text-align: right;\n",
       "    }\n",
       "</style>\n",
       "<table border=\"1\" class=\"dataframe\">\n",
       "  <thead>\n",
       "    <tr style=\"text-align: right;\">\n",
       "      <th></th>\n",
       "      <th>insertion_bats</th>\n",
       "      <th>insertion_others</th>\n",
       "      <th>deletion_bats</th>\n",
       "      <th>deletion_others</th>\n",
       "      <th>length_insertion_bats</th>\n",
       "      <th>length_insertion_others</th>\n",
       "      <th>length_deletion_bats</th>\n",
       "      <th>length_deletion_others</th>\n",
       "    </tr>\n",
       "  </thead>\n",
       "  <tbody>\n",
       "    <tr>\n",
       "      <th>count</th>\n",
       "      <td>41.000000</td>\n",
       "      <td>41.000000</td>\n",
       "      <td>41.000000</td>\n",
       "      <td>41.000000</td>\n",
       "      <td>41.000000</td>\n",
       "      <td>41.000000</td>\n",
       "      <td>41.000000</td>\n",
       "      <td>41.000000</td>\n",
       "    </tr>\n",
       "    <tr>\n",
       "      <th>mean</th>\n",
       "      <td>0.012544</td>\n",
       "      <td>0.014363</td>\n",
       "      <td>0.036016</td>\n",
       "      <td>0.044215</td>\n",
       "      <td>1.995234</td>\n",
       "      <td>2.052246</td>\n",
       "      <td>1.405270</td>\n",
       "      <td>1.319578</td>\n",
       "    </tr>\n",
       "    <tr>\n",
       "      <th>std</th>\n",
       "      <td>0.002667</td>\n",
       "      <td>0.003453</td>\n",
       "      <td>0.008902</td>\n",
       "      <td>0.011903</td>\n",
       "      <td>0.067421</td>\n",
       "      <td>0.071036</td>\n",
       "      <td>0.091961</td>\n",
       "      <td>0.063849</td>\n",
       "    </tr>\n",
       "    <tr>\n",
       "      <th>min</th>\n",
       "      <td>0.007913</td>\n",
       "      <td>0.006420</td>\n",
       "      <td>0.017791</td>\n",
       "      <td>0.014254</td>\n",
       "      <td>1.671665</td>\n",
       "      <td>1.920637</td>\n",
       "      <td>1.242262</td>\n",
       "      <td>1.238350</td>\n",
       "    </tr>\n",
       "    <tr>\n",
       "      <th>25%</th>\n",
       "      <td>0.010941</td>\n",
       "      <td>0.012628</td>\n",
       "      <td>0.029784</td>\n",
       "      <td>0.039408</td>\n",
       "      <td>1.978288</td>\n",
       "      <td>2.017794</td>\n",
       "      <td>1.339994</td>\n",
       "      <td>1.278991</td>\n",
       "    </tr>\n",
       "    <tr>\n",
       "      <th>50%</th>\n",
       "      <td>0.012550</td>\n",
       "      <td>0.014892</td>\n",
       "      <td>0.035203</td>\n",
       "      <td>0.048122</td>\n",
       "      <td>2.011831</td>\n",
       "      <td>2.044323</td>\n",
       "      <td>1.406929</td>\n",
       "      <td>1.308553</td>\n",
       "    </tr>\n",
       "    <tr>\n",
       "      <th>75%</th>\n",
       "      <td>0.014063</td>\n",
       "      <td>0.016734</td>\n",
       "      <td>0.042305</td>\n",
       "      <td>0.052275</td>\n",
       "      <td>2.036144</td>\n",
       "      <td>2.095591</td>\n",
       "      <td>1.445731</td>\n",
       "      <td>1.350590</td>\n",
       "    </tr>\n",
       "    <tr>\n",
       "      <th>max</th>\n",
       "      <td>0.020688</td>\n",
       "      <td>0.023682</td>\n",
       "      <td>0.054573</td>\n",
       "      <td>0.060058</td>\n",
       "      <td>2.072306</td>\n",
       "      <td>2.235246</td>\n",
       "      <td>1.657649</td>\n",
       "      <td>1.581674</td>\n",
       "    </tr>\n",
       "  </tbody>\n",
       "</table>\n",
       "</div>"
      ],
      "text/plain": [
       "       insertion_bats  insertion_others  deletion_bats  deletion_others  \\\n",
       "count       41.000000         41.000000      41.000000        41.000000   \n",
       "mean         0.012544          0.014363       0.036016         0.044215   \n",
       "std          0.002667          0.003453       0.008902         0.011903   \n",
       "min          0.007913          0.006420       0.017791         0.014254   \n",
       "25%          0.010941          0.012628       0.029784         0.039408   \n",
       "50%          0.012550          0.014892       0.035203         0.048122   \n",
       "75%          0.014063          0.016734       0.042305         0.052275   \n",
       "max          0.020688          0.023682       0.054573         0.060058   \n",
       "\n",
       "       length_insertion_bats  length_insertion_others  length_deletion_bats  \\\n",
       "count              41.000000                41.000000             41.000000   \n",
       "mean                1.995234                 2.052246              1.405270   \n",
       "std                 0.067421                 0.071036              0.091961   \n",
       "min                 1.671665                 1.920637              1.242262   \n",
       "25%                 1.978288                 2.017794              1.339994   \n",
       "50%                 2.011831                 2.044323              1.406929   \n",
       "75%                 2.036144                 2.095591              1.445731   \n",
       "max                 2.072306                 2.235246              1.657649   \n",
       "\n",
       "       length_deletion_others  \n",
       "count               41.000000  \n",
       "mean                 1.319578  \n",
       "std                  0.063849  \n",
       "min                  1.238350  \n",
       "25%                  1.278991  \n",
       "50%                  1.308553  \n",
       "75%                  1.350590  \n",
       "max                  1.581674  "
      ]
     },
     "execution_count": 59,
     "metadata": {},
     "output_type": "execute_result"
    }
   ],
   "source": [
    "comparison_df.describe()"
   ]
  }
 ],
 "metadata": {
  "kernelspec": {
   "display_name": "sparta",
   "language": "python",
   "name": "python3"
  },
  "language_info": {
   "codemirror_mode": {
    "name": "ipython",
    "version": 3
   },
   "file_extension": ".py",
   "mimetype": "text/x-python",
   "name": "python",
   "nbconvert_exporter": "python",
   "pygments_lexer": "ipython3",
   "version": "3.10.12"
  }
 },
 "nbformat": 4,
 "nbformat_minor": 2
}
